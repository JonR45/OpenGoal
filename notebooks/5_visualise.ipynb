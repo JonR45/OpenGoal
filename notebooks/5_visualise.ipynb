{
 "cells": [
  {
   "cell_type": "code",
   "execution_count": 1,
   "id": "a7660e74-22bf-4dda-8055-f94fc24d218d",
   "metadata": {
    "tags": []
   },
   "outputs": [],
   "source": [
    "import os\n",
    "import sys\n",
    "parent_dir = os.getcwd()\n",
    "sys.path.append(parent_dir)"
   ]
  },
  {
   "cell_type": "code",
   "execution_count": 2,
   "id": "160ac513-a7cb-472a-b59f-9c64bf700fe9",
   "metadata": {},
   "outputs": [
    {
     "name": "stdout",
     "output_type": "stream",
     "text": [
      "/Users/jonathonreid/Library/CloudStorage/OneDrive-Personal/Data_Science/Projects/Data_Visualisation/OpenGoal\n"
     ]
    }
   ],
   "source": [
    "cd .."
   ]
  },
  {
   "cell_type": "code",
   "execution_count": 4,
   "id": "de83c326-4ad4-4515-81fd-a6b3ead49969",
   "metadata": {},
   "outputs": [],
   "source": [
    "import pandas as pd\n",
    "from src.exploration.data_manipulation import single_metric_dataframes, split_into_video_series"
   ]
  },
  {
   "cell_type": "code",
   "execution_count": 5,
   "id": "2ded52a8-2f81-49d1-89c3-f5a20d1d78ce",
   "metadata": {},
   "outputs": [
    {
     "data": {
      "text/html": [
       "<div>\n",
       "<style scoped>\n",
       "    .dataframe tbody tr th:only-of-type {\n",
       "        vertical-align: middle;\n",
       "    }\n",
       "\n",
       "    .dataframe tbody tr th {\n",
       "        vertical-align: top;\n",
       "    }\n",
       "\n",
       "    .dataframe thead th {\n",
       "        text-align: right;\n",
       "    }\n",
       "</style>\n",
       "<table border=\"1\" class=\"dataframe\">\n",
       "  <thead>\n",
       "    <tr style=\"text-align: right;\">\n",
       "      <th></th>\n",
       "      <th>videoID</th>\n",
       "      <th>publishedAt</th>\n",
       "      <th>channelId</th>\n",
       "      <th>title</th>\n",
       "      <th>description</th>\n",
       "      <th>channelTitle</th>\n",
       "      <th>tags</th>\n",
       "      <th>viewCount</th>\n",
       "      <th>likeCount</th>\n",
       "      <th>favoriteCount</th>\n",
       "      <th>commentCount</th>\n",
       "      <th>duration_timedelta</th>\n",
       "      <th>duration_hhmmss</th>\n",
       "    </tr>\n",
       "  </thead>\n",
       "  <tbody>\n",
       "    <tr>\n",
       "      <th>0</th>\n",
       "      <td>uGtc9Bu9Txk</td>\n",
       "      <td>2020-12-31T23:00:10Z</td>\n",
       "      <td>UCArk93C2pbOvkv6jWz-3kAg</td>\n",
       "      <td>🍾 FORD KIERNAN HOGMANAY SPECIAL! | Open Goal</td>\n",
       "      <td>SUBSCRIBE to Open Goal - https://bit.ly/2QGY26...</td>\n",
       "      <td>Open Goal</td>\n",
       "      <td>['open goal', 'si ferry', 'still game', 'jack ...</td>\n",
       "      <td>205682</td>\n",
       "      <td>2286</td>\n",
       "      <td>0</td>\n",
       "      <td>112</td>\n",
       "      <td>0 days 01:21:55</td>\n",
       "      <td>01:21:55</td>\n",
       "    </tr>\n",
       "    <tr>\n",
       "      <th>1</th>\n",
       "      <td>vAGmV-mRRT0</td>\n",
       "      <td>2020-12-24T07:00:08Z</td>\n",
       "      <td>UCArk93C2pbOvkv6jWz-3kAg</td>\n",
       "      <td>CHRISTMAS EVE SPECIAL | Right in the Coupon w/...</td>\n",
       "      <td>SUBSCRIBE to Open Goal - https://bit.ly/2QGY26...</td>\n",
       "      <td>Open Goal</td>\n",
       "      <td>['open goal', 'si ferry', 'betting', 'slaney',...</td>\n",
       "      <td>63357</td>\n",
       "      <td>742</td>\n",
       "      <td>0</td>\n",
       "      <td>30</td>\n",
       "      <td>0 days 00:44:31</td>\n",
       "      <td>00:44:31</td>\n",
       "    </tr>\n",
       "    <tr>\n",
       "      <th>2</th>\n",
       "      <td>m54LPZSlStQ</td>\n",
       "      <td>2020-12-22T17:00:20Z</td>\n",
       "      <td>UCArk93C2pbOvkv6jWz-3kAg</td>\n",
       "      <td>EPIC CUP FINAL REVIEW | Keeping the Ball on th...</td>\n",
       "      <td>SUBSCRIBE to Open Goal - https://bit.ly/2QGY26...</td>\n",
       "      <td>Open Goal</td>\n",
       "      <td>['open goal', 'si ferry', 'celtic vs hearts', ...</td>\n",
       "      <td>85262</td>\n",
       "      <td>976</td>\n",
       "      <td>0</td>\n",
       "      <td>63</td>\n",
       "      <td>0 days 01:06:12</td>\n",
       "      <td>01:06:12</td>\n",
       "    </tr>\n",
       "    <tr>\n",
       "      <th>3</th>\n",
       "      <td>1RcFj1Sfs58</td>\n",
       "      <td>2020-12-21T17:00:03Z</td>\n",
       "      <td>UCArk93C2pbOvkv6jWz-3kAg</td>\n",
       "      <td>JAMIE CARRAGHER | Open Goal Meets...</td>\n",
       "      <td>SUBSCRIBE to Open Goal - https://bit.ly/2QGY26...</td>\n",
       "      <td>Open Goal</td>\n",
       "      <td>['open goal', 'si ferry', 'Jamie Carragher', '...</td>\n",
       "      <td>855101</td>\n",
       "      <td>4966</td>\n",
       "      <td>0</td>\n",
       "      <td>661</td>\n",
       "      <td>0 days 02:22:14</td>\n",
       "      <td>02:22:14</td>\n",
       "    </tr>\n",
       "    <tr>\n",
       "      <th>4</th>\n",
       "      <td>MaJhyEr6csQ</td>\n",
       "      <td>2020-12-17T17:25:28Z</td>\n",
       "      <td>UCArk93C2pbOvkv6jWz-3kAg</td>\n",
       "      <td>CELTIC v HEARTS &amp; ST MIRREN END RANGERS UNBEAT...</td>\n",
       "      <td>SUBSCRIBE to Open Goal - https://bit.ly/2QGY26...</td>\n",
       "      <td>Open Goal</td>\n",
       "      <td>['open goal', 'si ferry', 'celtic v hearts', '...</td>\n",
       "      <td>64383</td>\n",
       "      <td>659</td>\n",
       "      <td>0</td>\n",
       "      <td>49</td>\n",
       "      <td>0 days 00:45:40</td>\n",
       "      <td>00:45:40</td>\n",
       "    </tr>\n",
       "  </tbody>\n",
       "</table>\n",
       "</div>"
      ],
      "text/plain": [
       "       videoID           publishedAt                 channelId  \\\n",
       "0  uGtc9Bu9Txk  2020-12-31T23:00:10Z  UCArk93C2pbOvkv6jWz-3kAg   \n",
       "1  vAGmV-mRRT0  2020-12-24T07:00:08Z  UCArk93C2pbOvkv6jWz-3kAg   \n",
       "2  m54LPZSlStQ  2020-12-22T17:00:20Z  UCArk93C2pbOvkv6jWz-3kAg   \n",
       "3  1RcFj1Sfs58  2020-12-21T17:00:03Z  UCArk93C2pbOvkv6jWz-3kAg   \n",
       "4  MaJhyEr6csQ  2020-12-17T17:25:28Z  UCArk93C2pbOvkv6jWz-3kAg   \n",
       "\n",
       "                                               title  \\\n",
       "0       🍾 FORD KIERNAN HOGMANAY SPECIAL! | Open Goal   \n",
       "1  CHRISTMAS EVE SPECIAL | Right in the Coupon w/...   \n",
       "2  EPIC CUP FINAL REVIEW | Keeping the Ball on th...   \n",
       "3               JAMIE CARRAGHER | Open Goal Meets...   \n",
       "4  CELTIC v HEARTS & ST MIRREN END RANGERS UNBEAT...   \n",
       "\n",
       "                                         description channelTitle  \\\n",
       "0  SUBSCRIBE to Open Goal - https://bit.ly/2QGY26...    Open Goal   \n",
       "1  SUBSCRIBE to Open Goal - https://bit.ly/2QGY26...    Open Goal   \n",
       "2  SUBSCRIBE to Open Goal - https://bit.ly/2QGY26...    Open Goal   \n",
       "3  SUBSCRIBE to Open Goal - https://bit.ly/2QGY26...    Open Goal   \n",
       "4  SUBSCRIBE to Open Goal - https://bit.ly/2QGY26...    Open Goal   \n",
       "\n",
       "                                                tags  viewCount  likeCount  \\\n",
       "0  ['open goal', 'si ferry', 'still game', 'jack ...     205682       2286   \n",
       "1  ['open goal', 'si ferry', 'betting', 'slaney',...      63357        742   \n",
       "2  ['open goal', 'si ferry', 'celtic vs hearts', ...      85262        976   \n",
       "3  ['open goal', 'si ferry', 'Jamie Carragher', '...     855101       4966   \n",
       "4  ['open goal', 'si ferry', 'celtic v hearts', '...      64383        659   \n",
       "\n",
       "   favoriteCount  commentCount duration_timedelta duration_hhmmss  \n",
       "0              0           112    0 days 01:21:55        01:21:55  \n",
       "1              0            30    0 days 00:44:31        00:44:31  \n",
       "2              0            63    0 days 01:06:12        01:06:12  \n",
       "3              0           661    0 days 02:22:14        02:22:14  \n",
       "4              0            49    0 days 00:45:40        00:45:40  "
      ]
     },
     "execution_count": 5,
     "metadata": {},
     "output_type": "execute_result"
    }
   ],
   "source": [
    "raw_data = pd.read_csv(\"data/processed/json_data_processed.csv\")\n",
    "data = raw_data.copy()\n",
    "df = pd.DataFrame(data)\n",
    "df.head()"
   ]
  },
  {
   "cell_type": "markdown",
   "id": "8036a93d-fb11-4cbb-bcb5-435f6f19471b",
   "metadata": {},
   "source": [
    "# Visualise the views over time for all videos and then by different podcasts"
   ]
  },
  {
   "cell_type": "code",
   "execution_count": null,
   "id": "1cf7f4d3-71a6-4e11-bd8c-50b123a10594",
   "metadata": {},
   "outputs": [],
   "source": [
    "# define function that presents a line graph with views between specified dates"
   ]
  },
  {
   "cell_type": "code",
   "execution_count": null,
   "id": "3d1ba183-fd51-49d6-95cd-a54510c8a4eb",
   "metadata": {},
   "outputs": [],
   "source": []
  },
  {
   "cell_type": "code",
   "execution_count": null,
   "id": "a2c01456-f90c-4a9c-a4ab-6506c589be07",
   "metadata": {},
   "outputs": [],
   "source": []
  },
  {
   "cell_type": "code",
   "execution_count": null,
   "id": "885c9608-ebb6-496a-ae9d-447a887747e0",
   "metadata": {},
   "outputs": [],
   "source": []
  },
  {
   "cell_type": "code",
   "execution_count": null,
   "id": "fe050362-8416-4389-aa8e-3cb53357d7da",
   "metadata": {},
   "outputs": [],
   "source": []
  },
  {
   "cell_type": "code",
   "execution_count": null,
   "id": "f3fc8d40-e8be-4a34-b7e2-f0e2837958ce",
   "metadata": {},
   "outputs": [],
   "source": []
  },
  {
   "cell_type": "code",
   "execution_count": null,
   "id": "7aed876a-25ff-4b37-b3c0-27f25ea9af6a",
   "metadata": {},
   "outputs": [],
   "source": []
  },
  {
   "cell_type": "code",
   "execution_count": null,
   "id": "514c17d5-bd45-43e7-b8a5-c70c67d019df",
   "metadata": {},
   "outputs": [],
   "source": []
  },
  {
   "cell_type": "code",
   "execution_count": null,
   "id": "c845270a-6e6b-4dd2-9ef7-28aeb29ca551",
   "metadata": {},
   "outputs": [],
   "source": []
  },
  {
   "cell_type": "markdown",
   "id": "e2677744-bf45-49f6-9d11-3e2c2021eb1a",
   "metadata": {},
   "source": [
    "# Get dates Ferry was Broomhill manager and see if the volume of videos, duration, likes, comments etc. changed"
   ]
  },
  {
   "cell_type": "code",
   "execution_count": null,
   "id": "b4ac5e36-26ff-48ef-9b65-782c73d75e93",
   "metadata": {},
   "outputs": [],
   "source": [
    "# create a line graph with annotations highlighting key moments"
   ]
  },
  {
   "cell_type": "code",
   "execution_count": null,
   "id": "8cc755cb-ba84-4b0f-87dd-9344023226dc",
   "metadata": {},
   "outputs": [],
   "source": []
  },
  {
   "cell_type": "code",
   "execution_count": null,
   "id": "dd450eb0-2cf6-4b6d-b9df-db67da1d7d16",
   "metadata": {},
   "outputs": [],
   "source": []
  },
  {
   "cell_type": "code",
   "execution_count": null,
   "id": "f46d2c4d-930c-4242-b71d-696bd99e0d5b",
   "metadata": {},
   "outputs": [],
   "source": []
  },
  {
   "cell_type": "code",
   "execution_count": null,
   "id": "e23a70c4-91a4-44fe-b1d5-9580c03e63be",
   "metadata": {},
   "outputs": [],
   "source": []
  },
  {
   "cell_type": "code",
   "execution_count": null,
   "id": "25e36c75-c6f5-41a0-90b2-cb344aedaed4",
   "metadata": {},
   "outputs": [],
   "source": []
  },
  {
   "cell_type": "code",
   "execution_count": null,
   "id": "f1c4c1e9-14d5-4a22-9c13-47d4b1d17bcf",
   "metadata": {},
   "outputs": [],
   "source": []
  },
  {
   "cell_type": "code",
   "execution_count": null,
   "id": "9f335120-f835-4a42-bc58-0a515a7e874a",
   "metadata": {},
   "outputs": [],
   "source": []
  },
  {
   "cell_type": "code",
   "execution_count": null,
   "id": "056de6d0-ae07-490e-ae64-bfa31c17b3cb",
   "metadata": {},
   "outputs": [],
   "source": []
  },
  {
   "cell_type": "code",
   "execution_count": null,
   "id": "7de4940a-8e37-48c5-aeb9-4963d26ea7c7",
   "metadata": {},
   "outputs": [],
   "source": []
  },
  {
   "cell_type": "code",
   "execution_count": null,
   "id": "d177f7ef-72e9-41f3-be97-7076427ca628",
   "metadata": {},
   "outputs": [],
   "source": []
  },
  {
   "cell_type": "code",
   "execution_count": null,
   "id": "e2814465-f0e9-4556-95c2-d109b519cbea",
   "metadata": {},
   "outputs": [],
   "source": []
  }
 ],
 "metadata": {
  "kernelspec": {
   "display_name": "Python 3",
   "language": "python",
   "name": "python3"
  },
  "language_info": {
   "codemirror_mode": {
    "name": "ipython",
    "version": 3
   },
   "file_extension": ".py",
   "mimetype": "text/x-python",
   "name": "python",
   "nbconvert_exporter": "python",
   "pygments_lexer": "ipython3",
   "version": "3.8.8"
  }
 },
 "nbformat": 4,
 "nbformat_minor": 5
}
