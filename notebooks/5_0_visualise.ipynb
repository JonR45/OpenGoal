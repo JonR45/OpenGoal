{
 "cells": [
  {
   "cell_type": "code",
   "execution_count": 1,
   "id": "b4365d3f-51e1-4e16-8f39-9666e32773bb",
   "metadata": {},
   "outputs": [],
   "source": [
    "import os\n",
    "os.chdir('..') # this resolves ImportError: attempted relative import with no known parent package\n",
    "# import sys\n",
    "# parent_dir = os.getcwd()\n",
    "# sys.path.append(parent_dir)\n",
    "import pandas as pd\n",
    "import plotly.express as px\n",
    "from dash import Dash, dcc, html, Input, Output\n",
    "import matplotlib.pyplot as plt\n",
    "import seaborn as sns\n",
    "from datetime import datetime as dt\n",
    "from src.processing.data_manipulation import single_metric_dataframes, split_into_video_series\n",
    "from src.processing.feature_engineering import create_year_month_columns, create_video_counts_columns, duration_to_hhmmss"
   ]
  },
  {
   "cell_type": "code",
   "execution_count": 2,
   "id": "2ded52a8-2f81-49d1-89c3-f5a20d1d78ce",
   "metadata": {},
   "outputs": [
    {
     "data": {
      "text/html": [
       "<div>\n",
       "<style scoped>\n",
       "    .dataframe tbody tr th:only-of-type {\n",
       "        vertical-align: middle;\n",
       "    }\n",
       "\n",
       "    .dataframe tbody tr th {\n",
       "        vertical-align: top;\n",
       "    }\n",
       "\n",
       "    .dataframe thead th {\n",
       "        text-align: right;\n",
       "    }\n",
       "</style>\n",
       "<table border=\"1\" class=\"dataframe\">\n",
       "  <thead>\n",
       "    <tr style=\"text-align: right;\">\n",
       "      <th></th>\n",
       "      <th>videoID</th>\n",
       "      <th>publishedAt</th>\n",
       "      <th>channelId</th>\n",
       "      <th>title</th>\n",
       "      <th>description</th>\n",
       "      <th>channelTitle</th>\n",
       "      <th>tags</th>\n",
       "      <th>viewCount</th>\n",
       "      <th>likeCount</th>\n",
       "      <th>favoriteCount</th>\n",
       "      <th>commentCount</th>\n",
       "      <th>duration_timedelta</th>\n",
       "      <th>duration_hhmmss</th>\n",
       "    </tr>\n",
       "  </thead>\n",
       "  <tbody>\n",
       "    <tr>\n",
       "      <th>0</th>\n",
       "      <td>uGtc9Bu9Txk</td>\n",
       "      <td>2020-12-31T23:00:10Z</td>\n",
       "      <td>UCArk93C2pbOvkv6jWz-3kAg</td>\n",
       "      <td>🍾 FORD KIERNAN HOGMANAY SPECIAL! | Open Goal</td>\n",
       "      <td>SUBSCRIBE to Open Goal - https://bit.ly/2QGY26...</td>\n",
       "      <td>Open Goal</td>\n",
       "      <td>['open goal', 'si ferry', 'still game', 'jack ...</td>\n",
       "      <td>205682</td>\n",
       "      <td>2286</td>\n",
       "      <td>0</td>\n",
       "      <td>112</td>\n",
       "      <td>0 days 01:21:55</td>\n",
       "      <td>01:21:55</td>\n",
       "    </tr>\n",
       "    <tr>\n",
       "      <th>1</th>\n",
       "      <td>vAGmV-mRRT0</td>\n",
       "      <td>2020-12-24T07:00:08Z</td>\n",
       "      <td>UCArk93C2pbOvkv6jWz-3kAg</td>\n",
       "      <td>CHRISTMAS EVE SPECIAL | Right in the Coupon w/...</td>\n",
       "      <td>SUBSCRIBE to Open Goal - https://bit.ly/2QGY26...</td>\n",
       "      <td>Open Goal</td>\n",
       "      <td>['open goal', 'si ferry', 'betting', 'slaney',...</td>\n",
       "      <td>63357</td>\n",
       "      <td>742</td>\n",
       "      <td>0</td>\n",
       "      <td>30</td>\n",
       "      <td>0 days 00:44:31</td>\n",
       "      <td>00:44:31</td>\n",
       "    </tr>\n",
       "  </tbody>\n",
       "</table>\n",
       "</div>"
      ],
      "text/plain": [
       "       videoID           publishedAt                 channelId  \\\n",
       "0  uGtc9Bu9Txk  2020-12-31T23:00:10Z  UCArk93C2pbOvkv6jWz-3kAg   \n",
       "1  vAGmV-mRRT0  2020-12-24T07:00:08Z  UCArk93C2pbOvkv6jWz-3kAg   \n",
       "\n",
       "                                               title  \\\n",
       "0       🍾 FORD KIERNAN HOGMANAY SPECIAL! | Open Goal   \n",
       "1  CHRISTMAS EVE SPECIAL | Right in the Coupon w/...   \n",
       "\n",
       "                                         description channelTitle  \\\n",
       "0  SUBSCRIBE to Open Goal - https://bit.ly/2QGY26...    Open Goal   \n",
       "1  SUBSCRIBE to Open Goal - https://bit.ly/2QGY26...    Open Goal   \n",
       "\n",
       "                                                tags  viewCount  likeCount  \\\n",
       "0  ['open goal', 'si ferry', 'still game', 'jack ...     205682       2286   \n",
       "1  ['open goal', 'si ferry', 'betting', 'slaney',...      63357        742   \n",
       "\n",
       "   favoriteCount  commentCount duration_timedelta duration_hhmmss  \n",
       "0              0           112    0 days 01:21:55        01:21:55  \n",
       "1              0            30    0 days 00:44:31        00:44:31  "
      ]
     },
     "execution_count": 2,
     "metadata": {},
     "output_type": "execute_result"
    }
   ],
   "source": [
    "raw_data = pd.read_csv(\"data/processed/json_data_processed.csv\")\n",
    "data = raw_data.copy()\n",
    "df = pd.DataFrame(data)\n",
    "# df.sort_values(by=[\"publishedAt\"], inplace=True)\n",
    "# df.reset_index(inplace=True, drop=True)\n",
    "df.head(2)"
   ]
  },
  {
   "cell_type": "code",
   "execution_count": 3,
   "id": "341a3090-23bf-43da-9d9d-3d32b565f820",
   "metadata": {},
   "outputs": [
    {
     "data": {
      "text/html": [
       "<div>\n",
       "<style scoped>\n",
       "    .dataframe tbody tr th:only-of-type {\n",
       "        vertical-align: middle;\n",
       "    }\n",
       "\n",
       "    .dataframe tbody tr th {\n",
       "        vertical-align: top;\n",
       "    }\n",
       "\n",
       "    .dataframe thead th {\n",
       "        text-align: right;\n",
       "    }\n",
       "</style>\n",
       "<table border=\"1\" class=\"dataframe\">\n",
       "  <thead>\n",
       "    <tr style=\"text-align: right;\">\n",
       "      <th></th>\n",
       "      <th>videoID</th>\n",
       "      <th>publishedAt</th>\n",
       "      <th>publishedAtYear</th>\n",
       "      <th>publishedAtMonth</th>\n",
       "      <th>publishedAtYearMonth</th>\n",
       "      <th>channelTitle</th>\n",
       "      <th>channelId</th>\n",
       "      <th>title</th>\n",
       "      <th>description</th>\n",
       "      <th>duration_timedelta</th>\n",
       "      <th>duration_hhmmss</th>\n",
       "      <th>tags</th>\n",
       "      <th>viewCount</th>\n",
       "      <th>likeCount</th>\n",
       "      <th>favoriteCount</th>\n",
       "      <th>commentCount</th>\n",
       "      <th>videoCountMonth</th>\n",
       "      <th>videoCountYear</th>\n",
       "    </tr>\n",
       "  </thead>\n",
       "  <tbody>\n",
       "    <tr>\n",
       "      <th>0</th>\n",
       "      <td>wA7v2RtVdSA</td>\n",
       "      <td>2017-05-26 12:49:13+00:00</td>\n",
       "      <td>2017</td>\n",
       "      <td>05</td>\n",
       "      <td>2017-05</td>\n",
       "      <td>Open Goal</td>\n",
       "      <td>UCArk93C2pbOvkv6jWz-3kAg</td>\n",
       "      <td>Open Goal Trailer</td>\n",
       "      <td>NaN</td>\n",
       "      <td>0 days 00:00:48</td>\n",
       "      <td>00:00:48</td>\n",
       "      <td>['open goal', 'kevin thomson', \"darren o'dea\",...</td>\n",
       "      <td>8709</td>\n",
       "      <td>37</td>\n",
       "      <td>0</td>\n",
       "      <td>2</td>\n",
       "      <td>1</td>\n",
       "      <td>57</td>\n",
       "    </tr>\n",
       "    <tr>\n",
       "      <th>1</th>\n",
       "      <td>Fkmm0E_qgm8</td>\n",
       "      <td>2017-06-02 08:49:46+00:00</td>\n",
       "      <td>2017</td>\n",
       "      <td>06</td>\n",
       "      <td>2017-06</td>\n",
       "      <td>Open Goal</td>\n",
       "      <td>UCArk93C2pbOvkv6jWz-3kAg</td>\n",
       "      <td>Si Ferry Meets...Kevin Thomson Episode 1 - Exc...</td>\n",
       "      <td>In Part 1 of Si Ferry Meets… Kevin Thomson, th...</td>\n",
       "      <td>0 days 00:06:45</td>\n",
       "      <td>00:06:45</td>\n",
       "      <td>['Kevin Thomson', 'Rangers', 'Rangers Fc', 'Hi...</td>\n",
       "      <td>47975</td>\n",
       "      <td>152</td>\n",
       "      <td>0</td>\n",
       "      <td>7</td>\n",
       "      <td>21</td>\n",
       "      <td>57</td>\n",
       "    </tr>\n",
       "    <tr>\n",
       "      <th>2</th>\n",
       "      <td>Ks0ZO6SGlsU</td>\n",
       "      <td>2017-06-02 08:50:46+00:00</td>\n",
       "      <td>2017</td>\n",
       "      <td>06</td>\n",
       "      <td>2017-06</td>\n",
       "      <td>Open Goal</td>\n",
       "      <td>UCArk93C2pbOvkv6jWz-3kAg</td>\n",
       "      <td>Si Ferry Meets...Kevin Thomson Episode 2 - The...</td>\n",
       "      <td>Part 2 – Kevin Thomson speaks with Si about th...</td>\n",
       "      <td>0 days 00:07:23</td>\n",
       "      <td>00:07:23</td>\n",
       "      <td>['open goal', 'si ferry', 'si ferry kevin thom...</td>\n",
       "      <td>36476</td>\n",
       "      <td>115</td>\n",
       "      <td>0</td>\n",
       "      <td>11</td>\n",
       "      <td>21</td>\n",
       "      <td>57</td>\n",
       "    </tr>\n",
       "    <tr>\n",
       "      <th>3</th>\n",
       "      <td>-du5xqL3YcA</td>\n",
       "      <td>2017-06-02 11:40:56+00:00</td>\n",
       "      <td>2017</td>\n",
       "      <td>06</td>\n",
       "      <td>2017-06</td>\n",
       "      <td>Open Goal</td>\n",
       "      <td>UCArk93C2pbOvkv6jWz-3kAg</td>\n",
       "      <td>Si Ferry Meets...Charlie Mulgrew Episode 1 - C...</td>\n",
       "      <td>In Part 1 of Si Ferry Meets… Charlie Mulgrew, ...</td>\n",
       "      <td>0 days 00:07:49</td>\n",
       "      <td>00:07:49</td>\n",
       "      <td>['Charlie Mulgrew', 'Celtic', 'Celtic fc', 'ab...</td>\n",
       "      <td>69209</td>\n",
       "      <td>240</td>\n",
       "      <td>0</td>\n",
       "      <td>7</td>\n",
       "      <td>21</td>\n",
       "      <td>57</td>\n",
       "    </tr>\n",
       "    <tr>\n",
       "      <th>4</th>\n",
       "      <td>mfOy5Of3Tsg</td>\n",
       "      <td>2017-06-02 11:41:08+00:00</td>\n",
       "      <td>2017</td>\n",
       "      <td>06</td>\n",
       "      <td>2017-06</td>\n",
       "      <td>Open Goal</td>\n",
       "      <td>UCArk93C2pbOvkv6jWz-3kAg</td>\n",
       "      <td>Si Ferry Meets...Charlie Mulgrew Episode 2 - A...</td>\n",
       "      <td>Part 2 – Charlie tells Si about his positive t...</td>\n",
       "      <td>0 days 00:08:32</td>\n",
       "      <td>00:08:32</td>\n",
       "      <td>['Charlie Mulgrew', 'Celtic', 'Celtic FC', 'Ab...</td>\n",
       "      <td>54063</td>\n",
       "      <td>162</td>\n",
       "      <td>0</td>\n",
       "      <td>7</td>\n",
       "      <td>21</td>\n",
       "      <td>57</td>\n",
       "    </tr>\n",
       "  </tbody>\n",
       "</table>\n",
       "</div>"
      ],
      "text/plain": [
       "       videoID               publishedAt publishedAtYear publishedAtMonth  \\\n",
       "0  wA7v2RtVdSA 2017-05-26 12:49:13+00:00            2017               05   \n",
       "1  Fkmm0E_qgm8 2017-06-02 08:49:46+00:00            2017               06   \n",
       "2  Ks0ZO6SGlsU 2017-06-02 08:50:46+00:00            2017               06   \n",
       "3  -du5xqL3YcA 2017-06-02 11:40:56+00:00            2017               06   \n",
       "4  mfOy5Of3Tsg 2017-06-02 11:41:08+00:00            2017               06   \n",
       "\n",
       "  publishedAtYearMonth channelTitle                 channelId  \\\n",
       "0              2017-05    Open Goal  UCArk93C2pbOvkv6jWz-3kAg   \n",
       "1              2017-06    Open Goal  UCArk93C2pbOvkv6jWz-3kAg   \n",
       "2              2017-06    Open Goal  UCArk93C2pbOvkv6jWz-3kAg   \n",
       "3              2017-06    Open Goal  UCArk93C2pbOvkv6jWz-3kAg   \n",
       "4              2017-06    Open Goal  UCArk93C2pbOvkv6jWz-3kAg   \n",
       "\n",
       "                                               title  \\\n",
       "0                                  Open Goal Trailer   \n",
       "1  Si Ferry Meets...Kevin Thomson Episode 1 - Exc...   \n",
       "2  Si Ferry Meets...Kevin Thomson Episode 2 - The...   \n",
       "3  Si Ferry Meets...Charlie Mulgrew Episode 1 - C...   \n",
       "4  Si Ferry Meets...Charlie Mulgrew Episode 2 - A...   \n",
       "\n",
       "                                         description duration_timedelta  \\\n",
       "0                                                NaN    0 days 00:00:48   \n",
       "1  In Part 1 of Si Ferry Meets… Kevin Thomson, th...    0 days 00:06:45   \n",
       "2  Part 2 – Kevin Thomson speaks with Si about th...    0 days 00:07:23   \n",
       "3  In Part 1 of Si Ferry Meets… Charlie Mulgrew, ...    0 days 00:07:49   \n",
       "4  Part 2 – Charlie tells Si about his positive t...    0 days 00:08:32   \n",
       "\n",
       "  duration_hhmmss                                               tags  \\\n",
       "0        00:00:48  ['open goal', 'kevin thomson', \"darren o'dea\",...   \n",
       "1        00:06:45  ['Kevin Thomson', 'Rangers', 'Rangers Fc', 'Hi...   \n",
       "2        00:07:23  ['open goal', 'si ferry', 'si ferry kevin thom...   \n",
       "3        00:07:49  ['Charlie Mulgrew', 'Celtic', 'Celtic fc', 'ab...   \n",
       "4        00:08:32  ['Charlie Mulgrew', 'Celtic', 'Celtic FC', 'Ab...   \n",
       "\n",
       "   viewCount  likeCount  favoriteCount  commentCount  videoCountMonth  \\\n",
       "0       8709         37              0             2                1   \n",
       "1      47975        152              0             7               21   \n",
       "2      36476        115              0            11               21   \n",
       "3      69209        240              0             7               21   \n",
       "4      54063        162              0             7               21   \n",
       "\n",
       "   videoCountYear  \n",
       "0              57  \n",
       "1              57  \n",
       "2              57  \n",
       "3              57  \n",
       "4              57  "
      ]
     },
     "execution_count": 3,
     "metadata": {},
     "output_type": "execute_result"
    }
   ],
   "source": [
    "df = create_year_month_columns(df)\n",
    "df = create_video_counts_columns(df)\n",
    "df.head()"
   ]
  },
  {
   "cell_type": "code",
   "execution_count": 4,
   "id": "cd9a5d7b-be8d-4a11-aff6-ab9caae1fcac",
   "metadata": {},
   "outputs": [
    {
     "name": "stdout",
     "output_type": "stream",
     "text": [
      "<class 'pandas.core.frame.DataFrame'>\n",
      "RangeIndex: 739 entries, 0 to 738\n",
      "Data columns (total 18 columns):\n",
      " #   Column                Non-Null Count  Dtype              \n",
      "---  ------                --------------  -----              \n",
      " 0   videoID               739 non-null    object             \n",
      " 1   publishedAt           739 non-null    datetime64[ns, UTC]\n",
      " 2   publishedAtYear       739 non-null    object             \n",
      " 3   publishedAtMonth      739 non-null    object             \n",
      " 4   publishedAtYearMonth  739 non-null    object             \n",
      " 5   channelTitle          739 non-null    object             \n",
      " 6   channelId             739 non-null    object             \n",
      " 7   title                 739 non-null    object             \n",
      " 8   description           734 non-null    object             \n",
      " 9   duration_timedelta    739 non-null    object             \n",
      " 10  duration_hhmmss       739 non-null    object             \n",
      " 11  tags                  739 non-null    object             \n",
      " 12  viewCount             739 non-null    int64              \n",
      " 13  likeCount             739 non-null    int64              \n",
      " 14  favoriteCount         739 non-null    int64              \n",
      " 15  commentCount          739 non-null    int64              \n",
      " 16  videoCountMonth       739 non-null    int64              \n",
      " 17  videoCountYear        739 non-null    int64              \n",
      "dtypes: datetime64[ns, UTC](1), int64(6), object(11)\n",
      "memory usage: 104.0+ KB\n"
     ]
    }
   ],
   "source": [
    "df.info()"
   ]
  },
  {
   "cell_type": "code",
   "execution_count": 5,
   "id": "5695c80b-3855-4b9d-8f7f-71baf368045e",
   "metadata": {},
   "outputs": [
    {
     "data": {
      "text/plain": [
       "739"
      ]
     },
     "execution_count": 5,
     "metadata": {},
     "output_type": "execute_result"
    }
   ],
   "source": [
    "df['videoID'].nunique()"
   ]
  },
  {
   "cell_type": "code",
   "execution_count": 14,
   "id": "20cff7d9-05bc-441e-acf8-7807c87a377b",
   "metadata": {},
   "outputs": [
    {
     "data": {
      "text/html": [
       "<div>\n",
       "<style scoped>\n",
       "    .dataframe tbody tr th:only-of-type {\n",
       "        vertical-align: middle;\n",
       "    }\n",
       "\n",
       "    .dataframe tbody tr th {\n",
       "        vertical-align: top;\n",
       "    }\n",
       "\n",
       "    .dataframe thead th {\n",
       "        text-align: right;\n",
       "    }\n",
       "</style>\n",
       "<table border=\"1\" class=\"dataframe\">\n",
       "  <thead>\n",
       "    <tr style=\"text-align: right;\">\n",
       "      <th></th>\n",
       "      <th>publishedAtYearMonth</th>\n",
       "      <th>publishedAtYear</th>\n",
       "      <th>publishedAtMonth</th>\n",
       "      <th>viewCount</th>\n",
       "      <th>likeCount</th>\n",
       "      <th>commentCount</th>\n",
       "      <th>videoCountMonth</th>\n",
       "      <th>videoCountYear</th>\n",
       "    </tr>\n",
       "  </thead>\n",
       "  <tbody>\n",
       "    <tr>\n",
       "      <th>0</th>\n",
       "      <td>2017-05</td>\n",
       "      <td>2017</td>\n",
       "      <td>05</td>\n",
       "      <td>8709</td>\n",
       "      <td>37</td>\n",
       "      <td>2</td>\n",
       "      <td>1</td>\n",
       "      <td>57</td>\n",
       "    </tr>\n",
       "    <tr>\n",
       "      <th>1</th>\n",
       "      <td>2017-06</td>\n",
       "      <td>2017</td>\n",
       "      <td>06</td>\n",
       "      <td>767417</td>\n",
       "      <td>2577</td>\n",
       "      <td>87</td>\n",
       "      <td>21</td>\n",
       "      <td>57</td>\n",
       "    </tr>\n",
       "    <tr>\n",
       "      <th>2</th>\n",
       "      <td>2017-07</td>\n",
       "      <td>2017</td>\n",
       "      <td>07</td>\n",
       "      <td>372375</td>\n",
       "      <td>1610</td>\n",
       "      <td>64</td>\n",
       "      <td>3</td>\n",
       "      <td>57</td>\n",
       "    </tr>\n",
       "    <tr>\n",
       "      <th>3</th>\n",
       "      <td>2017-08</td>\n",
       "      <td>2017</td>\n",
       "      <td>08</td>\n",
       "      <td>373218</td>\n",
       "      <td>1793</td>\n",
       "      <td>80</td>\n",
       "      <td>7</td>\n",
       "      <td>57</td>\n",
       "    </tr>\n",
       "    <tr>\n",
       "      <th>4</th>\n",
       "      <td>2017-09</td>\n",
       "      <td>2017</td>\n",
       "      <td>09</td>\n",
       "      <td>172559</td>\n",
       "      <td>1152</td>\n",
       "      <td>37</td>\n",
       "      <td>5</td>\n",
       "      <td>57</td>\n",
       "    </tr>\n",
       "    <tr>\n",
       "      <th>5</th>\n",
       "      <td>2017-10</td>\n",
       "      <td>2017</td>\n",
       "      <td>10</td>\n",
       "      <td>438256</td>\n",
       "      <td>2429</td>\n",
       "      <td>134</td>\n",
       "      <td>4</td>\n",
       "      <td>57</td>\n",
       "    </tr>\n",
       "    <tr>\n",
       "      <th>6</th>\n",
       "      <td>2017-11</td>\n",
       "      <td>2017</td>\n",
       "      <td>11</td>\n",
       "      <td>210776</td>\n",
       "      <td>1366</td>\n",
       "      <td>82</td>\n",
       "      <td>4</td>\n",
       "      <td>57</td>\n",
       "    </tr>\n",
       "    <tr>\n",
       "      <th>7</th>\n",
       "      <td>2017-12</td>\n",
       "      <td>2017</td>\n",
       "      <td>12</td>\n",
       "      <td>400433</td>\n",
       "      <td>2658</td>\n",
       "      <td>105</td>\n",
       "      <td>12</td>\n",
       "      <td>57</td>\n",
       "    </tr>\n",
       "    <tr>\n",
       "      <th>8</th>\n",
       "      <td>2018-01</td>\n",
       "      <td>2018</td>\n",
       "      <td>01</td>\n",
       "      <td>149222</td>\n",
       "      <td>1296</td>\n",
       "      <td>93</td>\n",
       "      <td>6</td>\n",
       "      <td>92</td>\n",
       "    </tr>\n",
       "    <tr>\n",
       "      <th>9</th>\n",
       "      <td>2018-02</td>\n",
       "      <td>2018</td>\n",
       "      <td>02</td>\n",
       "      <td>187810</td>\n",
       "      <td>1326</td>\n",
       "      <td>71</td>\n",
       "      <td>7</td>\n",
       "      <td>92</td>\n",
       "    </tr>\n",
       "  </tbody>\n",
       "</table>\n",
       "</div>"
      ],
      "text/plain": [
       "  publishedAtYearMonth publishedAtYear publishedAtMonth  viewCount  likeCount  \\\n",
       "0              2017-05            2017               05       8709         37   \n",
       "1              2017-06            2017               06     767417       2577   \n",
       "2              2017-07            2017               07     372375       1610   \n",
       "3              2017-08            2017               08     373218       1793   \n",
       "4              2017-09            2017               09     172559       1152   \n",
       "5              2017-10            2017               10     438256       2429   \n",
       "6              2017-11            2017               11     210776       1366   \n",
       "7              2017-12            2017               12     400433       2658   \n",
       "8              2018-01            2018               01     149222       1296   \n",
       "9              2018-02            2018               02     187810       1326   \n",
       "\n",
       "   commentCount  videoCountMonth  videoCountYear  \n",
       "0             2                1              57  \n",
       "1            87               21              57  \n",
       "2            64                3              57  \n",
       "3            80                7              57  \n",
       "4            37                5              57  \n",
       "5           134                4              57  \n",
       "6            82                4              57  \n",
       "7           105               12              57  \n",
       "8            93                6              92  \n",
       "9            71                7              92  "
      ]
     },
     "execution_count": 14,
     "metadata": {},
     "output_type": "execute_result"
    }
   ],
   "source": [
    "# group the views, likes and comment numbers by month\n",
    "df_group = (\n",
    "    df.groupby(by=[df['publishedAtYearMonth'], df['publishedAtYear'], df['publishedAtMonth'], \n",
    "                   df['videoCountMonth'], df['videoCountYear']])[\n",
    "    ['viewCount', 'likeCount', 'commentCount']\n",
    "    ]\n",
    "    .sum()\n",
    "    .astype(int)\n",
    "    .sort_values([\"publishedAtYear\", \"publishedAtMonth\"], ascending=True)\n",
    "    )\n",
    "\n",
    "df_group.reset_index(inplace=True)\n",
    "\n",
    "# change column order\n",
    "df_group = df_group[['publishedAtYearMonth', 'publishedAtYear', 'publishedAtMonth',\n",
    "             'viewCount', 'likeCount', 'commentCount',\n",
    "             'videoCountMonth', 'videoCountYear']]\n",
    "df_group.head(10)"
   ]
  },
  {
   "cell_type": "code",
   "execution_count": 23,
   "id": "637b80e9-90d3-40fb-aa9e-0f3289ec59fe",
   "metadata": {},
   "outputs": [
    {
     "data": {
      "application/vnd.plotly.v1+json": {
       "config": {
        "plotlyServerURL": "https://plot.ly"
       },
       "data": [
        {
         "customdata": [
          [
           37,
           2
          ],
          [
           2577,
           87
          ],
          [
           1610,
           64
          ],
          [
           1793,
           80
          ],
          [
           1152,
           37
          ],
          [
           2429,
           134
          ],
          [
           1366,
           82
          ],
          [
           2658,
           105
          ],
          [
           1296,
           93
          ],
          [
           1326,
           71
          ],
          [
           1996,
           132
          ],
          [
           7869,
           461
          ],
          [
           1466,
           90
          ],
          [
           1870,
           167
          ],
          [
           2116,
           143
          ],
          [
           1477,
           109
          ],
          [
           3196,
           217
          ],
          [
           2003,
           163
          ],
          [
           4704,
           222
          ],
          [
           2176,
           144
          ],
          [
           1327,
           113
          ],
          [
           4748,
           280
          ],
          [
           2498,
           236
          ],
          [
           3212,
           269
          ],
          [
           4346,
           321
          ],
          [
           1387,
           127
          ],
          [
           2728,
           178
          ],
          [
           3016,
           250
          ],
          [
           2727,
           326
          ],
          [
           3840,
           310
          ],
          [
           3961,
           333
          ],
          [
           6237,
           392
          ],
          [
           3766,
           320
          ],
          [
           5046,
           387
          ],
          [
           9385,
           642
          ],
          [
           7448,
           570
          ],
          [
           7142,
           744
          ],
          [
           8841,
           881
          ],
          [
           7483,
           589
          ],
          [
           12922,
           760
          ],
          [
           8570,
           734
          ],
          [
           12128,
           816
          ],
          [
           14493,
           1073
          ],
          [
           19498,
           1740
          ],
          [
           9086,
           727
          ],
          [
           10888,
           696
          ],
          [
           8825,
           692
          ],
          [
           7818,
           752
          ],
          [
           6172,
           673
          ],
          [
           13863,
           1259
          ],
          [
           3077,
           126
          ],
          [
           6040,
           658
          ],
          [
           5401,
           560
          ],
          [
           7860,
           648
          ],
          [
           12826,
           1186
          ],
          [
           12008,
           831
          ],
          [
           3596,
           326
          ],
          [
           6626,
           609
          ],
          [
           9715,
           1046
          ],
          [
           5898,
           368
          ],
          [
           6447,
           621
          ],
          [
           5528,
           590
          ],
          [
           4316,
           526
          ],
          [
           10716,
           2447
          ],
          [
           8640,
           1874
          ],
          [
           6912,
           1415
          ],
          [
           8567,
           1718
          ],
          [
           5250,
           1124
          ],
          [
           7115,
           1836
          ],
          [
           37953,
           2538
          ],
          [
           22038,
           2668
          ],
          [
           13216,
           3288
          ],
          [
           10350,
           2013
          ],
          [
           3904,
           1082
          ],
          [
           2593,
           423
          ],
          [
           8087,
           1607
          ],
          [
           6720,
           1720
          ],
          [
           2266,
           635
          ]
         ],
         "hovertemplate": "Month=%{x}<br>Views=%{y}<br>Likes=%{customdata[0]}<br>Comments=%{customdata[1]}<extra></extra>",
         "legendgroup": "",
         "line": {
          "color": "#636efa",
          "dash": "solid",
          "shape": "spline"
         },
         "marker": {
          "symbol": "circle"
         },
         "mode": "lines",
         "name": "",
         "orientation": "v",
         "showlegend": false,
         "type": "scatter",
         "x": [
          "2017-05",
          "2017-06",
          "2017-07",
          "2017-08",
          "2017-09",
          "2017-10",
          "2017-11",
          "2017-12",
          "2018-01",
          "2018-02",
          "2018-03",
          "2018-04",
          "2018-05",
          "2018-06",
          "2018-07",
          "2018-08",
          "2018-09",
          "2018-10",
          "2018-11",
          "2018-12",
          "2019-01",
          "2019-02",
          "2019-03",
          "2019-04",
          "2019-05",
          "2019-06",
          "2019-07",
          "2019-08",
          "2019-09",
          "2019-10",
          "2019-11",
          "2019-12",
          "2020-01",
          "2020-02",
          "2020-03",
          "2020-04",
          "2020-05",
          "2020-06",
          "2020-07",
          "2020-08",
          "2020-09",
          "2020-10",
          "2020-11",
          "2020-12",
          "2021-01",
          "2021-02",
          "2021-03",
          "2021-04",
          "2021-05",
          "2021-06",
          "2021-07",
          "2021-08",
          "2021-09",
          "2021-10",
          "2021-11",
          "2021-12",
          "2022-01",
          "2022-02",
          "2022-03",
          "2022-04",
          "2022-05",
          "2022-06",
          "2022-07",
          "2022-08",
          "2022-09",
          "2022-10",
          "2022-11",
          "2022-12",
          "2023-01",
          "2023-02",
          "2023-03",
          "2023-04",
          "2023-05",
          "2023-06",
          "2023-07",
          "2023-08",
          "2023-09",
          "2023-10"
         ],
         "xaxis": "x",
         "y": [
          8709,
          767417,
          372375,
          373218,
          172559,
          438256,
          210776,
          400433,
          149222,
          187810,
          362853,
          1493144,
          239332,
          382041,
          331623,
          215175,
          490772,
          318016,
          541471,
          288485,
          165731,
          635259,
          355127,
          477773,
          627855,
          196444,
          454152,
          435290,
          366267,
          542664,
          482031,
          744895,
          446021,
          662626,
          1401863,
          909519,
          764312,
          1185521,
          917735,
          1226005,
          986893,
          1267386,
          1113748,
          2012686,
          964798,
          1384426,
          852801,
          822034,
          724139,
          1173348,
          281958,
          632525,
          532015,
          840897,
          1090695,
          937033,
          406090,
          571911,
          798820,
          489448,
          583464,
          340829,
          332072,
          923593,
          816131,
          685388,
          803921,
          514089,
          703978,
          2249289,
          1439105,
          1078409,
          998392,
          318398,
          243367,
          736006,
          635617,
          211914
         ],
         "yaxis": "y"
        }
       ],
       "layout": {
        "autosize": true,
        "legend": {
         "tracegroupgap": 0
        },
        "template": {
         "data": {
          "bar": [
           {
            "error_x": {
             "color": "#2a3f5f"
            },
            "error_y": {
             "color": "#2a3f5f"
            },
            "marker": {
             "line": {
              "color": "white",
              "width": 0.5
             },
             "pattern": {
              "fillmode": "overlay",
              "size": 10,
              "solidity": 0.2
             }
            },
            "type": "bar"
           }
          ],
          "barpolar": [
           {
            "marker": {
             "line": {
              "color": "white",
              "width": 0.5
             },
             "pattern": {
              "fillmode": "overlay",
              "size": 10,
              "solidity": 0.2
             }
            },
            "type": "barpolar"
           }
          ],
          "carpet": [
           {
            "aaxis": {
             "endlinecolor": "#2a3f5f",
             "gridcolor": "#C8D4E3",
             "linecolor": "#C8D4E3",
             "minorgridcolor": "#C8D4E3",
             "startlinecolor": "#2a3f5f"
            },
            "baxis": {
             "endlinecolor": "#2a3f5f",
             "gridcolor": "#C8D4E3",
             "linecolor": "#C8D4E3",
             "minorgridcolor": "#C8D4E3",
             "startlinecolor": "#2a3f5f"
            },
            "type": "carpet"
           }
          ],
          "choropleth": [
           {
            "colorbar": {
             "outlinewidth": 0,
             "ticks": ""
            },
            "type": "choropleth"
           }
          ],
          "contour": [
           {
            "colorbar": {
             "outlinewidth": 0,
             "ticks": ""
            },
            "colorscale": [
             [
              0,
              "#0d0887"
             ],
             [
              0.1111111111111111,
              "#46039f"
             ],
             [
              0.2222222222222222,
              "#7201a8"
             ],
             [
              0.3333333333333333,
              "#9c179e"
             ],
             [
              0.4444444444444444,
              "#bd3786"
             ],
             [
              0.5555555555555556,
              "#d8576b"
             ],
             [
              0.6666666666666666,
              "#ed7953"
             ],
             [
              0.7777777777777778,
              "#fb9f3a"
             ],
             [
              0.8888888888888888,
              "#fdca26"
             ],
             [
              1,
              "#f0f921"
             ]
            ],
            "type": "contour"
           }
          ],
          "contourcarpet": [
           {
            "colorbar": {
             "outlinewidth": 0,
             "ticks": ""
            },
            "type": "contourcarpet"
           }
          ],
          "heatmap": [
           {
            "colorbar": {
             "outlinewidth": 0,
             "ticks": ""
            },
            "colorscale": [
             [
              0,
              "#0d0887"
             ],
             [
              0.1111111111111111,
              "#46039f"
             ],
             [
              0.2222222222222222,
              "#7201a8"
             ],
             [
              0.3333333333333333,
              "#9c179e"
             ],
             [
              0.4444444444444444,
              "#bd3786"
             ],
             [
              0.5555555555555556,
              "#d8576b"
             ],
             [
              0.6666666666666666,
              "#ed7953"
             ],
             [
              0.7777777777777778,
              "#fb9f3a"
             ],
             [
              0.8888888888888888,
              "#fdca26"
             ],
             [
              1,
              "#f0f921"
             ]
            ],
            "type": "heatmap"
           }
          ],
          "heatmapgl": [
           {
            "colorbar": {
             "outlinewidth": 0,
             "ticks": ""
            },
            "colorscale": [
             [
              0,
              "#0d0887"
             ],
             [
              0.1111111111111111,
              "#46039f"
             ],
             [
              0.2222222222222222,
              "#7201a8"
             ],
             [
              0.3333333333333333,
              "#9c179e"
             ],
             [
              0.4444444444444444,
              "#bd3786"
             ],
             [
              0.5555555555555556,
              "#d8576b"
             ],
             [
              0.6666666666666666,
              "#ed7953"
             ],
             [
              0.7777777777777778,
              "#fb9f3a"
             ],
             [
              0.8888888888888888,
              "#fdca26"
             ],
             [
              1,
              "#f0f921"
             ]
            ],
            "type": "heatmapgl"
           }
          ],
          "histogram": [
           {
            "marker": {
             "pattern": {
              "fillmode": "overlay",
              "size": 10,
              "solidity": 0.2
             }
            },
            "type": "histogram"
           }
          ],
          "histogram2d": [
           {
            "colorbar": {
             "outlinewidth": 0,
             "ticks": ""
            },
            "colorscale": [
             [
              0,
              "#0d0887"
             ],
             [
              0.1111111111111111,
              "#46039f"
             ],
             [
              0.2222222222222222,
              "#7201a8"
             ],
             [
              0.3333333333333333,
              "#9c179e"
             ],
             [
              0.4444444444444444,
              "#bd3786"
             ],
             [
              0.5555555555555556,
              "#d8576b"
             ],
             [
              0.6666666666666666,
              "#ed7953"
             ],
             [
              0.7777777777777778,
              "#fb9f3a"
             ],
             [
              0.8888888888888888,
              "#fdca26"
             ],
             [
              1,
              "#f0f921"
             ]
            ],
            "type": "histogram2d"
           }
          ],
          "histogram2dcontour": [
           {
            "colorbar": {
             "outlinewidth": 0,
             "ticks": ""
            },
            "colorscale": [
             [
              0,
              "#0d0887"
             ],
             [
              0.1111111111111111,
              "#46039f"
             ],
             [
              0.2222222222222222,
              "#7201a8"
             ],
             [
              0.3333333333333333,
              "#9c179e"
             ],
             [
              0.4444444444444444,
              "#bd3786"
             ],
             [
              0.5555555555555556,
              "#d8576b"
             ],
             [
              0.6666666666666666,
              "#ed7953"
             ],
             [
              0.7777777777777778,
              "#fb9f3a"
             ],
             [
              0.8888888888888888,
              "#fdca26"
             ],
             [
              1,
              "#f0f921"
             ]
            ],
            "type": "histogram2dcontour"
           }
          ],
          "mesh3d": [
           {
            "colorbar": {
             "outlinewidth": 0,
             "ticks": ""
            },
            "type": "mesh3d"
           }
          ],
          "parcoords": [
           {
            "line": {
             "colorbar": {
              "outlinewidth": 0,
              "ticks": ""
             }
            },
            "type": "parcoords"
           }
          ],
          "pie": [
           {
            "automargin": true,
            "type": "pie"
           }
          ],
          "scatter": [
           {
            "fillpattern": {
             "fillmode": "overlay",
             "size": 10,
             "solidity": 0.2
            },
            "type": "scatter"
           }
          ],
          "scatter3d": [
           {
            "line": {
             "colorbar": {
              "outlinewidth": 0,
              "ticks": ""
             }
            },
            "marker": {
             "colorbar": {
              "outlinewidth": 0,
              "ticks": ""
             }
            },
            "type": "scatter3d"
           }
          ],
          "scattercarpet": [
           {
            "marker": {
             "colorbar": {
              "outlinewidth": 0,
              "ticks": ""
             }
            },
            "type": "scattercarpet"
           }
          ],
          "scattergeo": [
           {
            "marker": {
             "colorbar": {
              "outlinewidth": 0,
              "ticks": ""
             }
            },
            "type": "scattergeo"
           }
          ],
          "scattergl": [
           {
            "marker": {
             "colorbar": {
              "outlinewidth": 0,
              "ticks": ""
             }
            },
            "type": "scattergl"
           }
          ],
          "scattermapbox": [
           {
            "marker": {
             "colorbar": {
              "outlinewidth": 0,
              "ticks": ""
             }
            },
            "type": "scattermapbox"
           }
          ],
          "scatterpolar": [
           {
            "marker": {
             "colorbar": {
              "outlinewidth": 0,
              "ticks": ""
             }
            },
            "type": "scatterpolar"
           }
          ],
          "scatterpolargl": [
           {
            "marker": {
             "colorbar": {
              "outlinewidth": 0,
              "ticks": ""
             }
            },
            "type": "scatterpolargl"
           }
          ],
          "scatterternary": [
           {
            "marker": {
             "colorbar": {
              "outlinewidth": 0,
              "ticks": ""
             }
            },
            "type": "scatterternary"
           }
          ],
          "surface": [
           {
            "colorbar": {
             "outlinewidth": 0,
             "ticks": ""
            },
            "colorscale": [
             [
              0,
              "#0d0887"
             ],
             [
              0.1111111111111111,
              "#46039f"
             ],
             [
              0.2222222222222222,
              "#7201a8"
             ],
             [
              0.3333333333333333,
              "#9c179e"
             ],
             [
              0.4444444444444444,
              "#bd3786"
             ],
             [
              0.5555555555555556,
              "#d8576b"
             ],
             [
              0.6666666666666666,
              "#ed7953"
             ],
             [
              0.7777777777777778,
              "#fb9f3a"
             ],
             [
              0.8888888888888888,
              "#fdca26"
             ],
             [
              1,
              "#f0f921"
             ]
            ],
            "type": "surface"
           }
          ],
          "table": [
           {
            "cells": {
             "fill": {
              "color": "#EBF0F8"
             },
             "line": {
              "color": "white"
             }
            },
            "header": {
             "fill": {
              "color": "#C8D4E3"
             },
             "line": {
              "color": "white"
             }
            },
            "type": "table"
           }
          ]
         },
         "layout": {
          "annotationdefaults": {
           "arrowcolor": "#2a3f5f",
           "arrowhead": 0,
           "arrowwidth": 1
          },
          "autotypenumbers": "strict",
          "coloraxis": {
           "colorbar": {
            "outlinewidth": 0,
            "ticks": ""
           }
          },
          "colorscale": {
           "diverging": [
            [
             0,
             "#8e0152"
            ],
            [
             0.1,
             "#c51b7d"
            ],
            [
             0.2,
             "#de77ae"
            ],
            [
             0.3,
             "#f1b6da"
            ],
            [
             0.4,
             "#fde0ef"
            ],
            [
             0.5,
             "#f7f7f7"
            ],
            [
             0.6,
             "#e6f5d0"
            ],
            [
             0.7,
             "#b8e186"
            ],
            [
             0.8,
             "#7fbc41"
            ],
            [
             0.9,
             "#4d9221"
            ],
            [
             1,
             "#276419"
            ]
           ],
           "sequential": [
            [
             0,
             "#0d0887"
            ],
            [
             0.1111111111111111,
             "#46039f"
            ],
            [
             0.2222222222222222,
             "#7201a8"
            ],
            [
             0.3333333333333333,
             "#9c179e"
            ],
            [
             0.4444444444444444,
             "#bd3786"
            ],
            [
             0.5555555555555556,
             "#d8576b"
            ],
            [
             0.6666666666666666,
             "#ed7953"
            ],
            [
             0.7777777777777778,
             "#fb9f3a"
            ],
            [
             0.8888888888888888,
             "#fdca26"
            ],
            [
             1,
             "#f0f921"
            ]
           ],
           "sequentialminus": [
            [
             0,
             "#0d0887"
            ],
            [
             0.1111111111111111,
             "#46039f"
            ],
            [
             0.2222222222222222,
             "#7201a8"
            ],
            [
             0.3333333333333333,
             "#9c179e"
            ],
            [
             0.4444444444444444,
             "#bd3786"
            ],
            [
             0.5555555555555556,
             "#d8576b"
            ],
            [
             0.6666666666666666,
             "#ed7953"
            ],
            [
             0.7777777777777778,
             "#fb9f3a"
            ],
            [
             0.8888888888888888,
             "#fdca26"
            ],
            [
             1,
             "#f0f921"
            ]
           ]
          },
          "colorway": [
           "#636efa",
           "#EF553B",
           "#00cc96",
           "#ab63fa",
           "#FFA15A",
           "#19d3f3",
           "#FF6692",
           "#B6E880",
           "#FF97FF",
           "#FECB52"
          ],
          "font": {
           "color": "#2a3f5f"
          },
          "geo": {
           "bgcolor": "white",
           "lakecolor": "white",
           "landcolor": "white",
           "showlakes": true,
           "showland": true,
           "subunitcolor": "#C8D4E3"
          },
          "hoverlabel": {
           "align": "left"
          },
          "hovermode": "closest",
          "mapbox": {
           "style": "light"
          },
          "paper_bgcolor": "white",
          "plot_bgcolor": "white",
          "polar": {
           "angularaxis": {
            "gridcolor": "#EBF0F8",
            "linecolor": "#EBF0F8",
            "ticks": ""
           },
           "bgcolor": "white",
           "radialaxis": {
            "gridcolor": "#EBF0F8",
            "linecolor": "#EBF0F8",
            "ticks": ""
           }
          },
          "scene": {
           "xaxis": {
            "backgroundcolor": "white",
            "gridcolor": "#DFE8F3",
            "gridwidth": 2,
            "linecolor": "#EBF0F8",
            "showbackground": true,
            "ticks": "",
            "zerolinecolor": "#EBF0F8"
           },
           "yaxis": {
            "backgroundcolor": "white",
            "gridcolor": "#DFE8F3",
            "gridwidth": 2,
            "linecolor": "#EBF0F8",
            "showbackground": true,
            "ticks": "",
            "zerolinecolor": "#EBF0F8"
           },
           "zaxis": {
            "backgroundcolor": "white",
            "gridcolor": "#DFE8F3",
            "gridwidth": 2,
            "linecolor": "#EBF0F8",
            "showbackground": true,
            "ticks": "",
            "zerolinecolor": "#EBF0F8"
           }
          },
          "shapedefaults": {
           "line": {
            "color": "#2a3f5f"
           }
          },
          "ternary": {
           "aaxis": {
            "gridcolor": "#DFE8F3",
            "linecolor": "#A2B1C6",
            "ticks": ""
           },
           "baxis": {
            "gridcolor": "#DFE8F3",
            "linecolor": "#A2B1C6",
            "ticks": ""
           },
           "bgcolor": "white",
           "caxis": {
            "gridcolor": "#DFE8F3",
            "linecolor": "#A2B1C6",
            "ticks": ""
           }
          },
          "title": {
           "x": 0.05
          },
          "xaxis": {
           "automargin": true,
           "gridcolor": "#EBF0F8",
           "linecolor": "#EBF0F8",
           "ticks": "",
           "title": {
            "standoff": 15
           },
           "zerolinecolor": "#EBF0F8",
           "zerolinewidth": 2
          },
          "yaxis": {
           "automargin": true,
           "gridcolor": "#EBF0F8",
           "linecolor": "#EBF0F8",
           "ticks": "",
           "title": {
            "standoff": 15
           },
           "zerolinecolor": "#EBF0F8",
           "zerolinewidth": 2
          }
         }
        },
        "title": {
         "text": "OpenGoal viewCount by month"
        },
        "xaxis": {
         "anchor": "y",
         "autorange": true,
         "domain": [
          0,
          1
         ],
         "range": [
          "2017-05-01",
          "2023-10-01"
         ],
         "showspikes": false,
         "title": {
          "text": "Month"
         },
         "type": "date"
        },
        "yaxis": {
         "anchor": "x",
         "autorange": true,
         "domain": [
          0,
          1
         ],
         "range": [
          -115767.66666666667,
          2373765.6666666665
         ],
         "showspikes": false,
         "title": {
          "text": "Views"
         },
         "type": "linear"
        }
       }
      },
      "image/png": "[encoded data removed]",
      "text/html": [
       "<div>                            <div id=\"78c6645a-2ec7-402c-9515-778603b7a557\" class=\"plotly-graph-div\" style=\"height:525px; width:100%;\"></div>            <script type=\"text/javascript\">                require([\"plotly\"], function(Plotly) {                    window.PLOTLYENV=window.PLOTLYENV || {};                                    if (document.getElementById(\"78c6645a-2ec7-402c-9515-778603b7a557\")) {                    Plotly.newPlot(                        \"78c6645a-2ec7-402c-9515-778603b7a557\",                        [{\"customdata\":[[37,2],[2577,87],[1610,64],[1793,80],[1152,37],[2429,134],[1366,82],[2658,105],[1296,93],[1326,71],[1996,132],[7869,461],[1466,90],[1870,167],[2116,143],[1477,109],[3196,217],[2003,163],[4704,222],[2176,144],[1327,113],[4748,280],[2498,236],[3212,269],[4346,321],[1387,127],[2728,178],[3016,250],[2727,326],[3840,310],[3961,333],[6237,392],[3766,320],[5046,387],[9385,642],[7448,570],[7142,744],[8841,881],[7483,589],[12922,760],[8570,734],[12128,816],[14493,1073],[19498,1740],[9086,727],[10888,696],[8825,692],[7818,752],[6172,673],[13863,1259],[3077,126],[6040,658],[5401,560],[7860,648],[12826,1186],[12008,831],[3596,326],[6626,609],[9715,1046],[5898,368],[6447,621],[5528,590],[4316,526],[10716,2447],[8640,1874],[6912,1415],[8567,1718],[5250,1124],[7115,1836],[37953,2538],[22038,2668],[13216,3288],[10350,2013],[3904,1082],[2593,423],[8087,1607],[6720,1720],[2266,635]],\"hovertemplate\":\"Month=%{x}\\u003cbr\\u003eViews=%{y}\\u003cbr\\u003eLikes=%{customdata[0]}\\u003cbr\\u003eComments=%{customdata[1]}\\u003cextra\\u003e\\u003c\\u002fextra\\u003e\",\"legendgroup\":\"\",\"line\":{\"color\":\"#636efa\",\"dash\":\"solid\",\"shape\":\"spline\"},\"marker\":{\"symbol\":\"circle\"},\"mode\":\"lines\",\"name\":\"\",\"orientation\":\"v\",\"showlegend\":false,\"x\":[\"2017-05\",\"2017-06\",\"2017-07\",\"2017-08\",\"2017-09\",\"2017-10\",\"2017-11\",\"2017-12\",\"2018-01\",\"2018-02\",\"2018-03\",\"2018-04\",\"2018-05\",\"2018-06\",\"2018-07\",\"2018-08\",\"2018-09\",\"2018-10\",\"2018-11\",\"2018-12\",\"2019-01\",\"2019-02\",\"2019-03\",\"2019-04\",\"2019-05\",\"2019-06\",\"2019-07\",\"2019-08\",\"2019-09\",\"2019-10\",\"2019-11\",\"2019-12\",\"2020-01\",\"2020-02\",\"2020-03\",\"2020-04\",\"2020-05\",\"2020-06\",\"2020-07\",\"2020-08\",\"2020-09\",\"2020-10\",\"2020-11\",\"2020-12\",\"2021-01\",\"2021-02\",\"2021-03\",\"2021-04\",\"2021-05\",\"2021-06\",\"2021-07\",\"2021-08\",\"2021-09\",\"2021-10\",\"2021-11\",\"2021-12\",\"2022-01\",\"2022-02\",\"2022-03\",\"2022-04\",\"2022-05\",\"2022-06\",\"2022-07\",\"2022-08\",\"2022-09\",\"2022-10\",\"2022-11\",\"2022-12\",\"2023-01\",\"2023-02\",\"2023-03\",\"2023-04\",\"2023-05\",\"2023-06\",\"2023-07\",\"2023-08\",\"2023-09\",\"2023-10\"],\"xaxis\":\"x\",\"y\":[8709,767417,372375,373218,172559,438256,210776,400433,149222,187810,362853,1493144,239332,382041,331623,215175,490772,318016,541471,288485,165731,635259,355127,477773,627855,196444,454152,435290,366267,542664,482031,744895,446021,662626,1401863,909519,764312,1185521,917735,1226005,986893,1267386,1113748,2012686,964798,1384426,852801,822034,724139,1173348,281958,632525,532015,840897,1090695,937033,406090,571911,798820,489448,583464,340829,332072,923593,816131,685388,803921,514089,703978,2249289,1439105,1078409,998392,318398,243367,736006,635617,211914],\"yaxis\":\"y\",\"type\":\"scatter\"}],                        {\"template\":{\"data\":{\"barpolar\":[{\"marker\":{\"line\":{\"color\":\"white\",\"width\":0.5},\"pattern\":{\"fillmode\":\"overlay\",\"size\":10,\"solidity\":0.2}},\"type\":\"barpolar\"}],\"bar\":[{\"error_x\":{\"color\":\"#2a3f5f\"},\"error_y\":{\"color\":\"#2a3f5f\"},\"marker\":{\"line\":{\"color\":\"white\",\"width\":0.5},\"pattern\":{\"fillmode\":\"overlay\",\"size\":10,\"solidity\":0.2}},\"type\":\"bar\"}],\"carpet\":[{\"aaxis\":{\"endlinecolor\":\"#2a3f5f\",\"gridcolor\":\"#C8D4E3\",\"linecolor\":\"#C8D4E3\",\"minorgridcolor\":\"#C8D4E3\",\"startlinecolor\":\"#2a3f5f\"},\"baxis\":{\"endlinecolor\":\"#2a3f5f\",\"gridcolor\":\"#C8D4E3\",\"linecolor\":\"#C8D4E3\",\"minorgridcolor\":\"#C8D4E3\",\"startlinecolor\":\"#2a3f5f\"},\"type\":\"carpet\"}],\"choropleth\":[{\"colorbar\":{\"outlinewidth\":0,\"ticks\":\"\"},\"type\":\"choropleth\"}],\"contourcarpet\":[{\"colorbar\":{\"outlinewidth\":0,\"ticks\":\"\"},\"type\":\"contourcarpet\"}],\"contour\":[{\"colorbar\":{\"outlinewidth\":0,\"ticks\":\"\"},\"colorscale\":[[0.0,\"#0d0887\"],[0.1111111111111111,\"#46039f\"],[0.2222222222222222,\"#7201a8\"],[0.3333333333333333,\"#9c179e\"],[0.4444444444444444,\"#bd3786\"],[0.5555555555555556,\"#d8576b\"],[0.6666666666666666,\"#ed7953\"],[0.7777777777777778,\"#fb9f3a\"],[0.8888888888888888,\"#fdca26\"],[1.0,\"#f0f921\"]],\"type\":\"contour\"}],\"heatmapgl\":[{\"colorbar\":{\"outlinewidth\":0,\"ticks\":\"\"},\"colorscale\":[[0.0,\"#0d0887\"],[0.1111111111111111,\"#46039f\"],[0.2222222222222222,\"#7201a8\"],[0.3333333333333333,\"#9c179e\"],[0.4444444444444444,\"#bd3786\"],[0.5555555555555556,\"#d8576b\"],[0.6666666666666666,\"#ed7953\"],[0.7777777777777778,\"#fb9f3a\"],[0.8888888888888888,\"#fdca26\"],[1.0,\"#f0f921\"]],\"type\":\"heatmapgl\"}],\"heatmap\":[{\"colorbar\":{\"outlinewidth\":0,\"ticks\":\"\"},\"colorscale\":[[0.0,\"#0d0887\"],[0.1111111111111111,\"#46039f\"],[0.2222222222222222,\"#7201a8\"],[0.3333333333333333,\"#9c179e\"],[0.4444444444444444,\"#bd3786\"],[0.5555555555555556,\"#d8576b\"],[0.6666666666666666,\"#ed7953\"],[0.7777777777777778,\"#fb9f3a\"],[0.8888888888888888,\"#fdca26\"],[1.0,\"#f0f921\"]],\"type\":\"heatmap\"}],\"histogram2dcontour\":[{\"colorbar\":{\"outlinewidth\":0,\"ticks\":\"\"},\"colorscale\":[[0.0,\"#0d0887\"],[0.1111111111111111,\"#46039f\"],[0.2222222222222222,\"#7201a8\"],[0.3333333333333333,\"#9c179e\"],[0.4444444444444444,\"#bd3786\"],[0.5555555555555556,\"#d8576b\"],[0.6666666666666666,\"#ed7953\"],[0.7777777777777778,\"#fb9f3a\"],[0.8888888888888888,\"#fdca26\"],[1.0,\"#f0f921\"]],\"type\":\"histogram2dcontour\"}],\"histogram2d\":[{\"colorbar\":{\"outlinewidth\":0,\"ticks\":\"\"},\"colorscale\":[[0.0,\"#0d0887\"],[0.1111111111111111,\"#46039f\"],[0.2222222222222222,\"#7201a8\"],[0.3333333333333333,\"#9c179e\"],[0.4444444444444444,\"#bd3786\"],[0.5555555555555556,\"#d8576b\"],[0.6666666666666666,\"#ed7953\"],[0.7777777777777778,\"#fb9f3a\"],[0.8888888888888888,\"#fdca26\"],[1.0,\"#f0f921\"]],\"type\":\"histogram2d\"}],\"histogram\":[{\"marker\":{\"pattern\":{\"fillmode\":\"overlay\",\"size\":10,\"solidity\":0.2}},\"type\":\"histogram\"}],\"mesh3d\":[{\"colorbar\":{\"outlinewidth\":0,\"ticks\":\"\"},\"type\":\"mesh3d\"}],\"parcoords\":[{\"line\":{\"colorbar\":{\"outlinewidth\":0,\"ticks\":\"\"}},\"type\":\"parcoords\"}],\"pie\":[{\"automargin\":true,\"type\":\"pie\"}],\"scatter3d\":[{\"line\":{\"colorbar\":{\"outlinewidth\":0,\"ticks\":\"\"}},\"marker\":{\"colorbar\":{\"outlinewidth\":0,\"ticks\":\"\"}},\"type\":\"scatter3d\"}],\"scattercarpet\":[{\"marker\":{\"colorbar\":{\"outlinewidth\":0,\"ticks\":\"\"}},\"type\":\"scattercarpet\"}],\"scattergeo\":[{\"marker\":{\"colorbar\":{\"outlinewidth\":0,\"ticks\":\"\"}},\"type\":\"scattergeo\"}],\"scattergl\":[{\"marker\":{\"colorbar\":{\"outlinewidth\":0,\"ticks\":\"\"}},\"type\":\"scattergl\"}],\"scattermapbox\":[{\"marker\":{\"colorbar\":{\"outlinewidth\":0,\"ticks\":\"\"}},\"type\":\"scattermapbox\"}],\"scatterpolargl\":[{\"marker\":{\"colorbar\":{\"outlinewidth\":0,\"ticks\":\"\"}},\"type\":\"scatterpolargl\"}],\"scatterpolar\":[{\"marker\":{\"colorbar\":{\"outlinewidth\":0,\"ticks\":\"\"}},\"type\":\"scatterpolar\"}],\"scatter\":[{\"fillpattern\":{\"fillmode\":\"overlay\",\"size\":10,\"solidity\":0.2},\"type\":\"scatter\"}],\"scatterternary\":[{\"marker\":{\"colorbar\":{\"outlinewidth\":0,\"ticks\":\"\"}},\"type\":\"scatterternary\"}],\"surface\":[{\"colorbar\":{\"outlinewidth\":0,\"ticks\":\"\"},\"colorscale\":[[0.0,\"#0d0887\"],[0.1111111111111111,\"#46039f\"],[0.2222222222222222,\"#7201a8\"],[0.3333333333333333,\"#9c179e\"],[0.4444444444444444,\"#bd3786\"],[0.5555555555555556,\"#d8576b\"],[0.6666666666666666,\"#ed7953\"],[0.7777777777777778,\"#fb9f3a\"],[0.8888888888888888,\"#fdca26\"],[1.0,\"#f0f921\"]],\"type\":\"surface\"}],\"table\":[{\"cells\":{\"fill\":{\"color\":\"#EBF0F8\"},\"line\":{\"color\":\"white\"}},\"header\":{\"fill\":{\"color\":\"#C8D4E3\"},\"line\":{\"color\":\"white\"}},\"type\":\"table\"}]},\"layout\":{\"annotationdefaults\":{\"arrowcolor\":\"#2a3f5f\",\"arrowhead\":0,\"arrowwidth\":1},\"autotypenumbers\":\"strict\",\"coloraxis\":{\"colorbar\":{\"outlinewidth\":0,\"ticks\":\"\"}},\"colorscale\":{\"diverging\":[[0,\"#8e0152\"],[0.1,\"#c51b7d\"],[0.2,\"#de77ae\"],[0.3,\"#f1b6da\"],[0.4,\"#fde0ef\"],[0.5,\"#f7f7f7\"],[0.6,\"#e6f5d0\"],[0.7,\"#b8e186\"],[0.8,\"#7fbc41\"],[0.9,\"#4d9221\"],[1,\"#276419\"]],\"sequential\":[[0.0,\"#0d0887\"],[0.1111111111111111,\"#46039f\"],[0.2222222222222222,\"#7201a8\"],[0.3333333333333333,\"#9c179e\"],[0.4444444444444444,\"#bd3786\"],[0.5555555555555556,\"#d8576b\"],[0.6666666666666666,\"#ed7953\"],[0.7777777777777778,\"#fb9f3a\"],[0.8888888888888888,\"#fdca26\"],[1.0,\"#f0f921\"]],\"sequentialminus\":[[0.0,\"#0d0887\"],[0.1111111111111111,\"#46039f\"],[0.2222222222222222,\"#7201a8\"],[0.3333333333333333,\"#9c179e\"],[0.4444444444444444,\"#bd3786\"],[0.5555555555555556,\"#d8576b\"],[0.6666666666666666,\"#ed7953\"],[0.7777777777777778,\"#fb9f3a\"],[0.8888888888888888,\"#fdca26\"],[1.0,\"#f0f921\"]]},\"colorway\":[\"#636efa\",\"#EF553B\",\"#00cc96\",\"#ab63fa\",\"#FFA15A\",\"#19d3f3\",\"#FF6692\",\"#B6E880\",\"#FF97FF\",\"#FECB52\"],\"font\":{\"color\":\"#2a3f5f\"},\"geo\":{\"bgcolor\":\"white\",\"lakecolor\":\"white\",\"landcolor\":\"white\",\"showlakes\":true,\"showland\":true,\"subunitcolor\":\"#C8D4E3\"},\"hoverlabel\":{\"align\":\"left\"},\"hovermode\":\"closest\",\"mapbox\":{\"style\":\"light\"},\"paper_bgcolor\":\"white\",\"plot_bgcolor\":\"white\",\"polar\":{\"angularaxis\":{\"gridcolor\":\"#EBF0F8\",\"linecolor\":\"#EBF0F8\",\"ticks\":\"\"},\"bgcolor\":\"white\",\"radialaxis\":{\"gridcolor\":\"#EBF0F8\",\"linecolor\":\"#EBF0F8\",\"ticks\":\"\"}},\"scene\":{\"xaxis\":{\"backgroundcolor\":\"white\",\"gridcolor\":\"#DFE8F3\",\"gridwidth\":2,\"linecolor\":\"#EBF0F8\",\"showbackground\":true,\"ticks\":\"\",\"zerolinecolor\":\"#EBF0F8\"},\"yaxis\":{\"backgroundcolor\":\"white\",\"gridcolor\":\"#DFE8F3\",\"gridwidth\":2,\"linecolor\":\"#EBF0F8\",\"showbackground\":true,\"ticks\":\"\",\"zerolinecolor\":\"#EBF0F8\"},\"zaxis\":{\"backgroundcolor\":\"white\",\"gridcolor\":\"#DFE8F3\",\"gridwidth\":2,\"linecolor\":\"#EBF0F8\",\"showbackground\":true,\"ticks\":\"\",\"zerolinecolor\":\"#EBF0F8\"}},\"shapedefaults\":{\"line\":{\"color\":\"#2a3f5f\"}},\"ternary\":{\"aaxis\":{\"gridcolor\":\"#DFE8F3\",\"linecolor\":\"#A2B1C6\",\"ticks\":\"\"},\"baxis\":{\"gridcolor\":\"#DFE8F3\",\"linecolor\":\"#A2B1C6\",\"ticks\":\"\"},\"bgcolor\":\"white\",\"caxis\":{\"gridcolor\":\"#DFE8F3\",\"linecolor\":\"#A2B1C6\",\"ticks\":\"\"}},\"title\":{\"x\":0.05},\"xaxis\":{\"automargin\":true,\"gridcolor\":\"#EBF0F8\",\"linecolor\":\"#EBF0F8\",\"ticks\":\"\",\"title\":{\"standoff\":15},\"zerolinecolor\":\"#EBF0F8\",\"zerolinewidth\":2},\"yaxis\":{\"automargin\":true,\"gridcolor\":\"#EBF0F8\",\"linecolor\":\"#EBF0F8\",\"ticks\":\"\",\"title\":{\"standoff\":15},\"zerolinecolor\":\"#EBF0F8\",\"zerolinewidth\":2}}},\"xaxis\":{\"anchor\":\"y\",\"domain\":[0.0,1.0],\"title\":{\"text\":\"Month\"}},\"yaxis\":{\"anchor\":\"x\",\"domain\":[0.0,1.0],\"title\":{\"text\":\"Views\"}},\"legend\":{\"tracegroupgap\":0},\"title\":{\"text\":\"OpenGoal viewCount by month\"}},                        {\"responsive\": true}                    ).then(function(){\n",
       "                            \n",
       "var gd = document.getElementById('78c6645a-2ec7-402c-9515-778603b7a557');\n",
       "var x = new MutationObserver(function (mutations, observer) {{\n",
       "        var display = window.getComputedStyle(gd).display;\n",
       "        if (!display || display === 'none') {{\n",
       "            console.log([gd, 'removed!']);\n",
       "            Plotly.purge(gd);\n",
       "            observer.disconnect();\n",
       "        }}\n",
       "}});\n",
       "\n",
       "// Listen for the removal of the full notebook cells\n",
       "var notebookContainer = gd.closest('#notebook-container');\n",
       "if (notebookContainer) {{\n",
       "    x.observe(notebookContainer, {childList: true});\n",
       "}}\n",
       "\n",
       "// Listen for the clearing of the current output cell\n",
       "var outputEl = gd.closest('.output');\n",
       "if (outputEl) {{\n",
       "    x.observe(outputEl, {childList: true});\n",
       "}}\n",
       "\n",
       "                        })                };                });            </script>        </div>"
      ]
     },
     "metadata": {},
     "output_type": "display_data"
    }
   ],
   "source": [
    "fig = px.line(df_group, \n",
    "              x=df_group[\"publishedAtYearMonth\"], \n",
    "              y=\"viewCount\",\n",
    "              # color=\"publishedAtYear\",\n",
    "              # line_group=\"publishedAtYear\",\n",
    "              title='OpenGoal viewCount by month',\n",
    "              line_shape='spline',\n",
    "              labels={\"publishedAtYearMonth\": \"Month\", \n",
    "                      \"viewCount\": \"Views\", \n",
    "                      \"likeCount\": \"Likes\", \n",
    "                      \"commentCount\": \"Comments\"},\n",
    "              # hover_name='publishedAtYearMonth',\n",
    "              hover_data=[\"viewCount\", \"likeCount\", \"commentCount\"],\n",
    "              template='plotly_white',\n",
    "              )\n",
    "            \n",
    "\n",
    "fig.show()"
   ]
  },
  {
   "cell_type": "code",
   "execution_count": null,
   "id": "fe050362-8416-4389-aa8e-3cb53357d7da",
   "metadata": {},
   "outputs": [],
   "source": []
  },
  {
   "cell_type": "code",
   "execution_count": null,
   "id": "f3fc8d40-e8be-4a34-b7e2-f0e2837958ce",
   "metadata": {},
   "outputs": [],
   "source": []
  },
  {
   "cell_type": "code",
   "execution_count": null,
   "id": "7aed876a-25ff-4b37-b3c0-27f25ea9af6a",
   "metadata": {},
   "outputs": [],
   "source": []
  },
  {
   "cell_type": "code",
   "execution_count": null,
   "id": "514c17d5-bd45-43e7-b8a5-c70c67d019df",
   "metadata": {},
   "outputs": [],
   "source": []
  },
  {
   "cell_type": "code",
   "execution_count": null,
   "id": "c845270a-6e6b-4dd2-9ef7-28aeb29ca551",
   "metadata": {},
   "outputs": [],
   "source": []
  },
  {
   "cell_type": "code",
   "execution_count": null,
   "id": "8cc755cb-ba84-4b0f-87dd-9344023226dc",
   "metadata": {},
   "outputs": [],
   "source": []
  },
  {
   "cell_type": "code",
   "execution_count": null,
   "id": "dd450eb0-2cf6-4b6d-b9df-db67da1d7d16",
   "metadata": {},
   "outputs": [],
   "source": []
  },
  {
   "cell_type": "code",
   "execution_count": null,
   "id": "f46d2c4d-930c-4242-b71d-696bd99e0d5b",
   "metadata": {},
   "outputs": [],
   "source": []
  },
  {
   "cell_type": "code",
   "execution_count": null,
   "id": "e23a70c4-91a4-44fe-b1d5-9580c03e63be",
   "metadata": {},
   "outputs": [],
   "source": []
  },
  {
   "cell_type": "code",
   "execution_count": null,
   "id": "25e36c75-c6f5-41a0-90b2-cb344aedaed4",
   "metadata": {},
   "outputs": [],
   "source": []
  },
  {
   "cell_type": "code",
   "execution_count": null,
   "id": "f1c4c1e9-14d5-4a22-9c13-47d4b1d17bcf",
   "metadata": {},
   "outputs": [],
   "source": []
  },
  {
   "cell_type": "code",
   "execution_count": null,
   "id": "9f335120-f835-4a42-bc58-0a515a7e874a",
   "metadata": {},
   "outputs": [],
   "source": []
  },
  {
   "cell_type": "code",
   "execution_count": null,
   "id": "056de6d0-ae07-490e-ae64-bfa31c17b3cb",
   "metadata": {},
   "outputs": [],
   "source": []
  },
  {
   "cell_type": "code",
   "execution_count": null,
   "id": "7de4940a-8e37-48c5-aeb9-4963d26ea7c7",
   "metadata": {},
   "outputs": [],
   "source": []
  },
  {
   "cell_type": "code",
   "execution_count": null,
   "id": "d177f7ef-72e9-41f3-be97-7076427ca628",
   "metadata": {},
   "outputs": [],
   "source": []
  },
  {
   "cell_type": "code",
   "execution_count": null,
   "id": "e2814465-f0e9-4556-95c2-d109b519cbea",
   "metadata": {},
   "outputs": [],
   "source": []
  }
 ],
 "metadata": {
  "kernelspec": {
   "display_name": "Python 3 (ipykernel)",
   "language": "python",
   "name": "python3"
  },
  "language_info": {
   "codemirror_mode": {
    "name": "ipython",
    "version": 3
   },
   "file_extension": ".py",
   "mimetype": "text/x-python",
   "name": "python",
   "nbconvert_exporter": "python",
   "pygments_lexer": "ipython3",
   "version": "3.10.7"
  }
 },
 "nbformat": 4,
 "nbformat_minor": 5
}
