{
 "cells": [
  {
   "cell_type": "code",
   "execution_count": 1,
   "id": "db188f31-0d5c-4fc6-980a-d6d8dec6b58b",
   "metadata": {},
   "outputs": [],
   "source": [
    "import json\n",
    "import glob\n",
    "from datetime import datetime as dt"
   ]
  },
  {
   "cell_type": "code",
   "execution_count": 2,
   "id": "d980f579-dc24-41ac-b25f-f2f2dfe1fe75",
   "metadata": {},
   "outputs": [],
   "source": [
    "# function that loops through json files and loads them into a dataframe\n",
    "def load_all_json_files(folder_path):\n",
    "    \"\"\"Combines multiple JSON files into one file whilst maintaining the same\n",
    "    file and JSON structure.\n",
    "    \n",
    "    Parameters\n",
    "    -----------\n",
    "    folder_path: str\n",
    "        String of the path to the folder that contains the json files you\n",
    "        want to combine into one.\n",
    "    \n",
    "    \n",
    "    Returns\n",
    "    --------\n",
    "    \"\".json: json file\n",
    "        File with all the json file contained in the folder path in one\n",
    "        json file.\n",
    "    \n",
    "    \n",
    "    Notes\n",
    "    -------\n",
    "\n",
    "    \"\"\"\n",
    "    \n",
    "    input_path = folder_path + \"/*.json\"\n",
    "    output_path = \"../data/processed/\"\n",
    "    \n",
    "    # create empty list - this will be populated with all the json files that we want to combine\n",
    "    data = []\n",
    "    \n",
    "    # loop through the files in the foler and append them to the list\n",
    "    for file in glob.glob(input_path):\n",
    "        with open(file, \"r\") as f:\n",
    "            data.append(json.loads(f.read()))\n",
    "            \n",
    "            \n",
    "    # create a new timesatamped file with all the json data and ave in the output folder path\n",
    "    with open(f\"{output_path}/all_json_data.json\", \"w\") as f:\n",
    "        json.dump(data, f, indent=4)\n",
    "        \n",
    "    return"
   ]
  },
  {
   "cell_type": "code",
   "execution_count": 3,
   "id": "21d0bbeb-afb4-4e07-b5a5-86e16ffab778",
   "metadata": {},
   "outputs": [],
   "source": [
    "# set path to load files from\n",
    "path = \"../data/raw/JSON_response\"\n",
    "\n",
    "# load all the json files into one json file\n",
    "load_all_json_files(folder_path=path)"
   ]
  },
  {
   "cell_type": "code",
   "execution_count": null,
   "id": "639c96ea-904f-4a17-bd46-3cd5d3738e4c",
   "metadata": {},
   "outputs": [],
   "source": []
  },
  {
   "cell_type": "code",
   "execution_count": null,
   "id": "8c993f61-da41-4fdc-8329-4ba4975ae6b6",
   "metadata": {},
   "outputs": [],
   "source": []
  },
  {
   "cell_type": "code",
   "execution_count": null,
   "id": "5f2d4e04-ce0d-4bad-8794-91eec05b14ff",
   "metadata": {},
   "outputs": [],
   "source": []
  }
 ],
 "metadata": {
  "kernelspec": {
   "display_name": "Python 3",
   "language": "python",
   "name": "python3"
  },
  "language_info": {
   "codemirror_mode": {
    "name": "ipython",
    "version": 3
   },
   "file_extension": ".py",
   "mimetype": "text/x-python",
   "name": "python",
   "nbconvert_exporter": "python",
   "pygments_lexer": "ipython3",
   "version": "3.8.8"
  }
 },
 "nbformat": 4,
 "nbformat_minor": 5
}
